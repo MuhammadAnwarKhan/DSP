{
 "cells": [
  {
   "cell_type": "markdown",
   "metadata": {},
   "source": [
    "## Solutions\n",
    "\n",
    "Chapter 6: Discrete Cosine Transform\n"
   ]
  },
  {
   "cell_type": "code",
   "execution_count": 2,
   "metadata": {},
   "outputs": [],
   "source": [
    "from __future__ import print_function, division\n",
    "\n",
    "import thinkdsp\n",
    "import thinkplot\n",
    "import thinkstats2\n",
    "\n",
    "import numpy as np\n",
    "import scipy.fftpack\n",
    "\n",
    "import warnings\n",
    "warnings.filterwarnings('ignore')\n",
    "\n",
    "import dct\n",
    "\n",
    "%matplotlib inline"
   ]
  },
  {
   "cell_type": "markdown",
   "metadata": {},
   "source": [
    "**Exercise:** In this chapter I claim that `analyze1` takes time proportional\n",
    "to $n^3$ and `analyze2` takes time proportional to $n^2$.  To\n",
    "see if that's true, run them on a range of input sizes and time\n",
    "them.  In IPython, you can use the magic command `%timeit`.\n",
    "\n",
    "If you plot run time versus input size on a log-log scale, you\n",
    "should get a straight line with slope 3 for  `analyze1` and\n",
    "slope 2 for `analyze2`.  You also might want to test `dct_iv`\n",
    "and `scipy.fftpack.dct`.\n",
    "\n",
    "I'll start with a noise signal and an array of power-of-two sizes"
   ]
  },
  {
   "cell_type": "code",
   "execution_count": 9,
   "metadata": {},
   "outputs": [
    {
     "data": {
      "text/plain": [
       "(16384,)"
      ]
     },
     "execution_count": 9,
     "metadata": {},
     "output_type": "execute_result"
    }
   ],
   "source": [
    "signal = thinkdsp.UncorrelatedGaussianNoise()\n",
    "noise = signal.make_wave(duration=1.0, framerate=16384)\n",
    "noise.ys.shape"
   ]
  },
  {
   "cell_type": "code",
   "execution_count": 21,
   "metadata": {},
   "outputs": [
    {
     "data": {
      "text/plain": [
       "array([   64,   128,   256,   512,  1024,  2048,  4096,  8192, 16384],\n",
       "      dtype=int32)"
      ]
     },
     "execution_count": 21,
     "metadata": {},
     "output_type": "execute_result"
    }
   ],
   "source": [
    "ns = 2 ** np.arange(6, 15)\n",
    "ns"
   ]
  },
  {
   "cell_type": "markdown",
   "metadata": {},
   "source": [
    "The following function takes an array of results from a timing experiment, plots the results, and fits a straight line."
   ]
  },
  {
   "cell_type": "code",
   "execution_count": 22,
   "metadata": {},
   "outputs": [],
   "source": [
    "def plot_bests(bests):    \n",
    "    thinkplot.plot(ns, bests)\n",
    "    thinkplot.config(xscale='log', yscale='log', legend=False)\n",
    "    \n",
    "    x = np.log(ns)\n",
    "    y = np.log(bests)\n",
    "    t = scipy.stats.linregress(x,y)\n",
    "    slope = t[0]\n",
    "\n",
    "    return slope"
   ]
  },
  {
   "cell_type": "markdown",
   "metadata": {
    "collapsed": true
   },
   "source": [
    "Here are the results for `analyze1`."
   ]
  },
  {
   "cell_type": "code",
   "execution_count": 12,
   "metadata": {},
   "outputs": [
    {
     "name": "stdout",
     "output_type": "stream",
     "text": [
      "64\n",
      "91.4 µs ± 0 ns per loop (mean ± std. dev. of 1 run, 10000 loops each)\n",
      "128\n",
      "189 µs ± 0 ns per loop (mean ± std. dev. of 1 run, 10000 loops each)\n",
      "256\n",
      "1.58 ms ± 0 ns per loop (mean ± std. dev. of 1 run, 1000 loops each)\n",
      "512\n",
      "8.14 ms ± 0 ns per loop (mean ± std. dev. of 1 run, 100 loops each)\n",
      "1024\n",
      "39.4 ms ± 0 ns per loop (mean ± std. dev. of 1 run, 10 loops each)\n",
      "2048\n",
      "208 ms ± 0 ns per loop (mean ± std. dev. of 1 run, 1 loop each)\n",
      "4096\n",
      "1.28 s ± 0 ns per loop (mean ± std. dev. of 1 run, 1 loop each)\n",
      "8192\n",
      "7.13 s ± 0 ns per loop (mean ± std. dev. of 1 run, 1 loop each)\n",
      "16384\n",
      "38.7 s ± 0 ns per loop (mean ± std. dev. of 1 run, 1 loop each)\n"
     ]
    },
    {
     "data": {
      "text/plain": [
       "2.4062634639609293"
      ]
     },
     "execution_count": 12,
     "metadata": {},
     "output_type": "execute_result"
    },
    {
     "data": {
      "image/png": "[encoded data removed]",
      "text/plain": [
       "<Figure size 432x288 with 1 Axes>"
      ]
     },
     "metadata": {
      "needs_background": "light"
     },
     "output_type": "display_data"
    }
   ],
   "source": [
    "results = []\n",
    "for N in ns:\n",
    "    print(N)\n",
    "    ts = (0.5 + np.arange(N)) / N\n",
    "    freqs = (0.5 + np.arange(N)) / 2\n",
    "    ys = noise.ys[:N]\n",
    "    result = %timeit -r1 -o dct.analyze1(ys, freqs, ts)\n",
    "    results.append(result)\n",
    "\n",
    "bests = [result.best for result in results]\n",
    "plot_bests(bests)"
   ]
  },
  {
   "cell_type": "markdown",
   "metadata": {
    "collapsed": true
   },
   "source": [
    "The estimated slope is close to 2, not 3, as expected.  One possibility is that the performance of `np.linalg.solve` is nearly quadratic in this range of array sizes.\n",
    "\n",
    "The line is curved, which suggests that we have not reached the array size where the runtime shows cubic growth.  With larger array sizes, the estimated slope increases, so maybe it eventually converges on 3.\n",
    "\n",
    "Here are the results for `analyze2`:"
   ]
  },
  {
   "cell_type": "code",
   "execution_count": 19,
   "metadata": {},
   "outputs": [
    {
     "name": "stdout",
     "output_type": "stream",
     "text": [
      "64.6 µs ± 0 ns per loop (mean ± std. dev. of 1 run, 10000 loops each)\n",
      "86.9 µs ± 0 ns per loop (mean ± std. dev. of 1 run, 10000 loops each)\n",
      "615 µs ± 0 ns per loop (mean ± std. dev. of 1 run, 1000 loops each)\n",
      "3.28 ms ± 0 ns per loop (mean ± std. dev. of 1 run, 100 loops each)\n",
      "12.7 ms ± 0 ns per loop (mean ± std. dev. of 1 run, 100 loops each)\n",
      "51.7 ms ± 0 ns per loop (mean ± std. dev. of 1 run, 10 loops each)\n",
      "207 ms ± 0 ns per loop (mean ± std. dev. of 1 run, 1 loop each)\n",
      "783 ms ± 0 ns per loop (mean ± std. dev. of 1 run, 1 loop each)\n",
      "2.81 s ± 0 ns per loop (mean ± std. dev. of 1 run, 1 loop each)\n"
     ]
    },
    {
     "data": {
      "text/plain": [
       "2.0303493250317084"
      ]
     },
     "execution_count": 19,
     "metadata": {},
     "output_type": "execute_result"
    },
    {
     "data": {
      "image/png": "[encoded data removed]",
      "text/plain": [
       "<Figure size 432x288 with 1 Axes>"
      ]
     },
     "metadata": {
      "needs_background": "light"
     },
     "output_type": "display_data"
    }
   ],
   "source": [
    "results = []\n",
    "for N in ns:\n",
    "    ts = (0.5 + np.arange(N)) / N\n",
    "    freqs = (0.5 + np.arange(N)) / 2\n",
    "    ys = noise.ys[:N]\n",
    "    result = %timeit -r1 -o dct.analyze2(ys, freqs, ts)\n",
    "    results.append(result)\n",
    "\n",
    "bests2 = [result.best for result in results]\n",
    "plot_bests(bests2)"
   ]
  },
  {
   "cell_type": "markdown",
   "metadata": {
    "collapsed": true
   },
   "source": [
    "The results for `analyze2` fall in a straight line with the estimated slope close to 2, as expected.\n",
    "\n",
    "Here are the results for the `scipy.fftpack.dct`"
   ]
  },
  {
   "cell_type": "code",
   "execution_count": 23,
   "metadata": {},
   "outputs": [
    {
     "name": "stdout",
     "output_type": "stream",
     "text": [
      "7.58 µs ± 177 ns per loop (mean ± std. dev. of 7 runs, 100000 loops each)\n",
      "9.8 µs ± 1.35 µs per loop (mean ± std. dev. of 7 runs, 100000 loops each)\n",
      "8.84 µs ± 65.7 ns per loop (mean ± std. dev. of 7 runs, 100000 loops each)\n",
      "11 µs ± 169 ns per loop (mean ± std. dev. of 7 runs, 100000 loops each)\n",
      "14.9 µs ± 801 ns per loop (mean ± std. dev. of 7 runs, 100000 loops each)\n",
      "22.1 µs ± 1.11 µs per loop (mean ± std. dev. of 7 runs, 10000 loops each)\n",
      "37.4 µs ± 370 ns per loop (mean ± std. dev. of 7 runs, 10000 loops each)\n",
      "77.6 µs ± 918 ns per loop (mean ± std. dev. of 7 runs, 10000 loops each)\n",
      "159 µs ± 6.3 µs per loop (mean ± std. dev. of 7 runs, 10000 loops each)\n"
     ]
    },
    {
     "data": {
      "text/plain": [
       "0.5365436693673857"
      ]
     },
     "execution_count": 23,
     "metadata": {},
     "output_type": "execute_result"
    },
    {
     "data": {
      "image/png": "[encoded data removed]",
      "text/plain": [
       "<Figure size 432x288 with 1 Axes>"
      ]
     },
     "metadata": {
      "needs_background": "light"
     },
     "output_type": "display_data"
    }
   ],
   "source": [
    "results = []\n",
    "for N in ns:\n",
    "    ys = noise.ys[:N]\n",
    "    result = %timeit -o scipy.fftpack.dct(ys, type=3)\n",
    "    results.append(result)\n",
    "\n",
    "bests3 = [result.best for result in results]\n",
    "plot_bests(bests3)"
   ]
  },
  {
   "cell_type": "markdown",
   "metadata": {
    "collapsed": true
   },
   "source": [
    "This implementation of dct is even faster.  The line is curved, which means either we haven't seen the asymptotic behavior yet, or the asymptotic behavior is not a simple exponent of $n$.  In fact, as we'll see soon, the run time is proportional to $n \\log n$.\n",
    "\n",
    "The following figure shows all three curves on the same axes."
   ]
  },
  {
   "cell_type": "code",
   "execution_count": 25,
   "metadata": {},
   "outputs": [
    {
     "data": {
      "image/png": "[encoded data removed]",
      "text/plain": [
       "<Figure size 432x288 with 1 Axes>"
      ]
     },
     "metadata": {
      "needs_background": "light"
     },
     "output_type": "display_data"
    }
   ],
   "source": [
    "thinkplot.preplot(3)\n",
    "thinkplot.plot(ns, bests, label='analyze1')\n",
    "thinkplot.plot(ns, bests2, label='analyze2')\n",
    "thinkplot.plot(ns, bests3, label='fftpack.dct')\n",
    "thinkplot.config(xscale='log', yscale='log', legend=True, loc='upper left')"
   ]
  },
  {
   "cell_type": "code",
   "execution_count": null,
   "metadata": {},
   "outputs": [],
   "source": []
  }
 ],
 "metadata": {
  "kernelspec": {
   "display_name": "Python 3",
   "language": "python",
   "name": "python3"
  },
  "language_info": {
   "codemirror_mode": {
    "name": "ipython",
    "version": 3
   },
   "file_extension": ".py",
   "mimetype": "text/x-python",
   "name": "python",
   "nbconvert_exporter": "python",
   "pygments_lexer": "ipython3",
   "version": "3.7.3"
  },
  "latex_envs": {
   "LaTeX_envs_menu_present": true,
   "autoclose": false,
   "autocomplete": true,
   "bibliofile": "biblio.bib",
   "cite_by": "apalike",
   "current_citInitial": 1,
   "eqLabelWithNumbers": true,
   "eqNumInitial": 1,
   "hotkeys": {
    "equation": "Ctrl-E",
    "itemize": "Ctrl-I"
   },
   "labels_anchors": false,
   "latex_user_defs": false,
   "report_style_numbering": false,
   "user_envs_cfg": false
  },
  "nbTranslate": {
   "displayLangs": [
    "zh-TW",
    "en"
   ],
   "hotkey": "alt-t",
   "langInMainMenu": true,
   "sourceLang": "en",
   "targetLang": "zh-TW",
   "useGoogleTranslate": true
  },
  "toc": {
   "base_numbering": 1,
   "nav_menu": {},
   "number_sections": true,
   "sideBar": true,
   "skip_h1_title": false,
   "title_cell": "Table of Contents",
   "title_sidebar": "Contents",
   "toc_cell": false,
   "toc_position": {},
   "toc_section_display": true,
   "toc_window_display": false
  },
  "varInspector": {
   "cols": {
    "lenName": 16,
    "lenType": 16,
    "lenVar": 40
   },
   "kernels_config": {
    "python": {
     "delete_cmd_postfix": "",
     "delete_cmd_prefix": "del ",
     "library": "var_list.py",
     "varRefreshCmd": "print(var_dic_list())"
    },
    "r": {
     "delete_cmd_postfix": ") ",
     "delete_cmd_prefix": "rm(",
     "library": "var_list.r",
     "varRefreshCmd": "cat(var_dic_list()) "
    }
   },
   "types_to_exclude": [
    "module",
    "function",
    "builtin_function_or_method",
    "instance",
    "_Feature"
   ],
   "window_display": false
  }
 },
 "nbformat": 4,
 "nbformat_minor": 1
}
